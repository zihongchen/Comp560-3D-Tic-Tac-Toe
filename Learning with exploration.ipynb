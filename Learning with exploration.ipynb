{
 "cells": [
  {
   "cell_type": "code",
   "execution_count": 1,
   "metadata": {},
   "outputs": [],
   "source": [
    "import numpy as np\n",
    "import random\n",
    "from time import sleep\n",
    "import math\n",
    "from Game import *\n",
    "from learning import *"
   ]
  },
  {
   "cell_type": "code",
   "execution_count": 4,
   "metadata": {},
   "outputs": [
    {
     "name": "stdout",
     "output_type": "stream",
     "text": [
      "Utility function learning randomly with 100 iterations:\n",
      "[[[ -9   1   0  -6]\n",
      "  [  9  -1  -1 -12]\n",
      "  [ -5  -5  -3  -3]\n",
      "  [  3  -1   8  -3]]\n",
      "\n",
      " [[  1   0  14  -3]\n",
      "  [ 10  16  -1  -1]\n",
      "  [ -7  10  -6   3]\n",
      "  [ 15  13  -4  -7]]\n",
      "\n",
      " [[  2  -3  -1  -2]\n",
      "  [ -6   2  -1   0]\n",
      "  [ 11  14  -2  12]\n",
      "  [  5   3   1  -6]]\n",
      "\n",
      " [[  6   1  -2   2]\n",
      "  [ -2 -12  -5 -12]\n",
      "  [-10  -9  -9  -7]\n",
      "  [  3  -3  -9  14]]]\n",
      "Utility function learning randomly with 1000 iterations:\n",
      "[[[-15  -2  25 -42]\n",
      "  [-22  -1 -25  -6]\n",
      "  [-23  38  -4   1]\n",
      "  [ 29 -37 -52  24]]\n",
      "\n",
      " [[-33   0 -29   2]\n",
      "  [ 17  71  59 -13]\n",
      "  [-12 -13  47 -58]\n",
      "  [-10  23 -18  41]]\n",
      "\n",
      " [[-42  -4 -44  21]\n",
      "  [-14  93  12  27]\n",
      "  [ -6  56  15  -8]\n",
      "  [  6 -21   0  -5]]\n",
      "\n",
      " [[ 19 -41 -11  68]\n",
      "  [-28 -79 -26 -21]\n",
      "  [  2 -30 -48  38]\n",
      "  [ 24  23  12  50]]]\n",
      "Utility fuction learning randomly with 2000 iterations:\n",
      "[[[ 41 -19  36  13]\n",
      "  [-44   0 -86 -14]\n",
      "  [-27  47   8 -50]\n",
      "  [  2 -10 -90  89]]\n",
      "\n",
      " [[-47 -20 -49  -6]\n",
      "  [-23  86 101 -15]\n",
      "  [-12   3  97 -95]\n",
      "  [-67  32 -40  63]]\n",
      "\n",
      " [[-30  -7 -30  13]\n",
      "  [-37 120  28  20]\n",
      "  [-22  81  71 -15]\n",
      "  [-14 -29 -26  -8]]\n",
      "\n",
      " [[ 37 -43 -11  92]\n",
      "  [-32 -92 -15   3]\n",
      "  [-14 -14 -86   9]\n",
      "  [ 86  21  -2  42]]]\n"
     ]
    }
   ],
   "source": [
    "iterations1=100\n",
    "iterations2=1000\n",
    "iterations3=2000\n",
    "learning_randomly_4x4x4(iterations1,iterations2,iterations3)"
   ]
  }
 ],
 "metadata": {
  "kernelspec": {
   "display_name": "Python 3",
   "language": "python",
   "name": "python3"
  },
  "language_info": {
   "codemirror_mode": {
    "name": "ipython",
    "version": 3
   },
   "file_extension": ".py",
   "mimetype": "text/x-python",
   "name": "python",
   "nbconvert_exporter": "python",
   "pygments_lexer": "ipython3",
   "version": "3.7.1"
  }
 },
 "nbformat": 4,
 "nbformat_minor": 2
}
