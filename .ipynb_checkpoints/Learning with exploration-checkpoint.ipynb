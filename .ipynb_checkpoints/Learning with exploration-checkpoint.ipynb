{
 "cells": [
  {
   "cell_type": "code",
   "execution_count": 1,
   "metadata": {},
   "outputs": [],
   "source": [
    "import numpy as np\n",
    "import random\n",
    "from time import sleep\n",
    "import math\n",
    "from Game import *\n",
    "from learning import *"
   ]
  },
  {
   "cell_type": "code",
   "execution_count": 2,
   "metadata": {},
   "outputs": [
    {
     "name": "stdout",
     "output_type": "stream",
     "text": [
      "Utility function learning randomly with 200 iterations:\n",
      "[[[ 19  -6  12  -6]\n",
      "  [  0  -1  23   2]\n",
      "  [  3  -8  -1   3]\n",
      "  [  8   6  -9  11]]\n",
      "\n",
      " [[ 17   4   1  -3]\n",
      "  [  9   4  15  -8]\n",
      "  [  9  21  12  -9]\n",
      "  [-19 -10  -3  -2]]\n",
      "\n",
      " [[  5  -2 -18 -16]\n",
      "  [ -3  15   5  12]\n",
      "  [ 14  -1   2  -6]\n",
      "  [ -8  -2 -14   8]]\n",
      "\n",
      " [[ -6  -7  13  10]\n",
      "  [ -1   9  -5  12]\n",
      "  [-24 -25  -9   0]\n",
      "  [-25  -5  -8 -14]]]\n",
      "Utility function learning randomly with 500 iterations:\n",
      "[[[ 17 -10 -13  -7]\n",
      "  [ -7   7  18   5]\n",
      "  [-10   1   9  -5]\n",
      "  [ 40  27 -22  29]]\n",
      "\n",
      " [[ 12  23 -22 -10]\n",
      "  [ 19   4  43 -23]\n",
      "  [-10  33  34  12]\n",
      "  [-30  -6  17  -5]]\n",
      "\n",
      " [[ -9 -18   1 -15]\n",
      "  [ 18  28  23   5]\n",
      "  [ 26 -13  27  -9]\n",
      "  [-11 -32 -21   7]]\n",
      "\n",
      " [[-11 -22   1  17]\n",
      "  [-14   6 -15   4]\n",
      "  [-24 -36   3 -23]\n",
      "  [ -9 -20 -27  -7]]]\n",
      "Utility fuction learning randomly with 1000 iterations:\n",
      "[[[ 52  -2  -2  15]\n",
      "  [ -1   7  20 -50]\n",
      "  [-30  -6  37 -22]\n",
      "  [ 55  36 -35  50]]\n",
      "\n",
      " [[  5  20 -25 -54]\n",
      "  [-31  26  94 -27]\n",
      "  [-52  36  54  -4]\n",
      "  [-15   6  17  -8]]\n",
      "\n",
      " [[-34 -46  19  -2]\n",
      "  [  7  21  26 -27]\n",
      "  [ 10   9  35 -31]\n",
      "  [  8 -44 -15   4]]\n",
      "\n",
      " [[  7  -3  22  23]\n",
      "  [-16   5 -29   1]\n",
      "  [-23 -18  -4 -11]\n",
      "  [ 23  -7 -53 -23]]]\n"
     ]
    }
   ],
   "source": [
    "iterations1=200\n",
    "iterations2=500\n",
    "iterations3=1000\n",
    "learning_randomly_4x4x4(iterations1,iterations2,iterations3)"
   ]
  }
 ],
 "metadata": {
  "kernelspec": {
   "display_name": "Python 3",
   "language": "python",
   "name": "python3"
  },
  "language_info": {
   "codemirror_mode": {
    "name": "ipython",
    "version": 3
   },
   "file_extension": ".py",
   "mimetype": "text/x-python",
   "name": "python",
   "nbconvert_exporter": "python",
   "pygments_lexer": "ipython3",
   "version": "3.7.1"
  }
 },
 "nbformat": 4,
 "nbformat_minor": 2
}
