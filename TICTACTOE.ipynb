{
 "cells": [
  {
   "cell_type": "code",
   "execution_count": 8,
   "metadata": {},
   "outputs": [],
   "source": [
    "import numpy as np\n",
    "import random\n",
    "from time import sleep"
   ]
  },
  {
   "cell_type": "code",
   "execution_count": 10,
   "metadata": {},
   "outputs": [
    {
     "ename": "IndentationError",
     "evalue": "unindent does not match any outer indentation level (<tokenize>, line 39)",
     "output_type": "error",
     "traceback": [
      "\u001b[0;36m  File \u001b[0;32m\"<tokenize>\"\u001b[0;36m, line \u001b[0;32m39\u001b[0m\n\u001b[0;31m    return mat\u001b[0m\n\u001b[0m    ^\u001b[0m\n\u001b[0;31mIndentationError\u001b[0m\u001b[0;31m:\u001b[0m unindent does not match any outer indentation level\n"
     ]
    }
   ],
   "source": [
    "#Dont touch this functions!!Copy here when it is checked and is ok\n",
    "#Converting a number into some base N with vector length L\n",
    "#Number that players have: player1=1 or player2=2\n",
    "#We will consider during the whole exercise matrix as i, rows as j and columns as k\n",
    "player1=1\n",
    "player2=2\n",
    "def baseN(N,number):\n",
    "    base=[]\n",
    "    while number!=0:\n",
    "        resto=number%N\n",
    "        base.insert(0,resto)\n",
    "        number=number//N\n",
    "    return base\n",
    "#Converting a vector with base in N into an integer\n",
    "def convert(N,base):\n",
    "    number=0\n",
    "    L=len(base)\n",
    "    for i in range(L):\n",
    "        number=number+base[i]*N**i\n",
    "    return number\n",
    "#Create a new board\n",
    "def create_board():\n",
    "    mat=np.array([[[0 for i in range(4)] for j in range(4)] for k in range(4)])\n",
    "    return mat\n",
    "#Checking empty spaces\n",
    "def possibilities(board):\n",
    "    pos=[]\n",
    "    N=len(board)\n",
    "    for i in range(N):\n",
    "        for j in range(N):\n",
    "            for k in range(N):\n",
    "                if board[i,j,k]==0:\n",
    "                   pos.append((i,j,k))               \n",
    "    return(pos)\n",
    "#utility function of each block: so far, if a player wins, we add one to \n",
    "#value of all of his blocks; if it loses, we substract one\n",
    "def valueOfBlock(board):\n",
    "     mat=np.array([[[0 for i in range(4)] for j in range(4)] for k in range(4)])\n",
    "    return mat"
   ]
  },
  {
   "cell_type": "code",
   "execution_count": 11,
   "metadata": {},
   "outputs": [],
   "source": [
    "#Assignating a random position to me or the adversary considering the possibilities\n",
    "def random_place(board,player):\n",
    "    possible=possibilities(board)\n",
    "    selection=random.choice(possible)\n",
    "    possible.remove(selection)# the selection is no longer possible after you choose it\n",
    "    board[selection]=player# [(i,j,k)] could access 3d array\n",
    "    return board"
   ]
  },
  {
   "cell_type": "code",
   "execution_count": 6,
   "metadata": {},
   "outputs": [],
   "source": [
    "#Row checker. For now only for each matrix separated\n",
    "def row_winner(board,player):\n",
    "    N=len(board)\n",
    "    for i in range(N):\n",
    "        for j in range(N):\n",
    "            win=True\n",
    "            for k in range(N):\n",
    "                if board[i,j,k]!=player:\n",
    "                    win=False\n",
    "                    break # used to be continue\n",
    "                return win\n",
    "    return win    "
   ]
  },
  {
   "cell_type": "code",
   "execution_count": 7,
   "metadata": {},
   "outputs": [
    {
     "ename": "NameError",
     "evalue": "name 'create_board' is not defined",
     "output_type": "error",
     "traceback": [
      "\u001b[0;31m---------------------------------------------------------------------------\u001b[0m",
      "\u001b[0;31mNameError\u001b[0m                                 Traceback (most recent call last)",
      "\u001b[0;32m<ipython-input-7-94f42bfd6890>\u001b[0m in \u001b[0;36m<module>\u001b[0;34m\u001b[0m\n\u001b[0;32m----> 1\u001b[0;31m \u001b[0mboard\u001b[0m \u001b[0;34m=\u001b[0m \u001b[0mcreate_board\u001b[0m\u001b[0;34m(\u001b[0m\u001b[0;34m)\u001b[0m\u001b[0;34m\u001b[0m\u001b[0;34m\u001b[0m\u001b[0m\n\u001b[0m\u001b[1;32m      2\u001b[0m \u001b[0mpos\u001b[0m \u001b[0;34m=\u001b[0m \u001b[0mpossibilities\u001b[0m\u001b[0;34m(\u001b[0m\u001b[0mboard\u001b[0m\u001b[0;34m)\u001b[0m\u001b[0;34m\u001b[0m\u001b[0;34m\u001b[0m\u001b[0m\n\u001b[1;32m      3\u001b[0m \u001b[0mprint\u001b[0m\u001b[0;34m(\u001b[0m\u001b[0mpos\u001b[0m\u001b[0;34m)\u001b[0m\u001b[0;34m\u001b[0m\u001b[0;34m\u001b[0m\u001b[0m\n\u001b[1;32m      4\u001b[0m \u001b[0;34m\u001b[0m\u001b[0m\n",
      "\u001b[0;31mNameError\u001b[0m: name 'create_board' is not defined"
     ]
    }
   ],
   "source": [
    "board = create_board()\n",
    "pos = possibilities(board)\n",
    "print(pos)\n",
    "\n"
   ]
  },
  {
   "cell_type": "code",
   "execution_count": 1,
   "metadata": {},
   "outputs": [
    {
     "ename": "NameError",
     "evalue": "name 'random_place' is not defined",
     "output_type": "error",
     "traceback": [
      "\u001b[0;31m---------------------------------------------------------------------------\u001b[0m",
      "\u001b[0;31mNameError\u001b[0m                                 Traceback (most recent call last)",
      "\u001b[0;32m<ipython-input-1-4585ffe27534>\u001b[0m in \u001b[0;36m<module>\u001b[0;34m\u001b[0m\n\u001b[0;32m----> 1\u001b[0;31m \u001b[0mrandom_place\u001b[0m\u001b[0;34m(\u001b[0m\u001b[0mboard\u001b[0m\u001b[0;34m,\u001b[0m\u001b[0mplayer2\u001b[0m\u001b[0;34m)\u001b[0m\u001b[0;34m\u001b[0m\u001b[0;34m\u001b[0m\u001b[0m\n\u001b[0m\u001b[1;32m      2\u001b[0m \u001b[0mprint\u001b[0m\u001b[0;34m(\u001b[0m\u001b[0mboard\u001b[0m\u001b[0;34m)\u001b[0m\u001b[0;34m\u001b[0m\u001b[0;34m\u001b[0m\u001b[0m\n\u001b[1;32m      3\u001b[0m \u001b[0mprint\u001b[0m\u001b[0;34m(\u001b[0m\u001b[0mnp\u001b[0m\u001b[0;34m.\u001b[0m\u001b[0mmax\u001b[0m\u001b[0;34m(\u001b[0m\u001b[0mboard\u001b[0m\u001b[0;34m)\u001b[0m\u001b[0;34m)\u001b[0m\u001b[0;34m\u001b[0m\u001b[0;34m\u001b[0m\u001b[0m\n",
      "\u001b[0;31mNameError\u001b[0m: name 'random_place' is not defined"
     ]
    }
   ],
   "source": [
    "random_place(board,player2)\n",
    "print(board)\n",
    "print(np.max(board))"
   ]
  },
  {
   "cell_type": "code",
   "execution_count": 49,
   "metadata": {},
   "outputs": [],
   "source": [
    "def column_winner(board,player):\n",
    "    N=len(board)\n",
    "    #Matrix i\n",
    "    for i in range(N):\n",
    "        #Column k\n",
    "        for k in range(N):\n",
    "            win=True\n",
    "            #Row j\n",
    "            for j in range(N):\n",
    "                if board[i,j,k]!=player:\n",
    "                    win=False\n",
    "                    break # used to be continue\n",
    "            if win==True:\n",
    "                return win\n",
    "    return win        "
   ]
  },
  {
   "cell_type": "code",
   "execution_count": 50,
   "metadata": {},
   "outputs": [],
   "source": [
    "def column3D_winner(board,player):\n",
    "    N=len(board)\n",
    "    #Row j\n",
    "    for j in range(N):\n",
    "        #Column k\n",
    "        for k in range(N):\n",
    "            win=True\n",
    "            #matrix i\n",
    "            for i in range(N):\n",
    "                if board[i,j,k]!=player:\n",
    "                    win=False\n",
    "                    continue\n",
    "            if win==True:\n",
    "                    return win            \n",
    "    return win            "
   ]
  },
  {
   "cell_type": "code",
   "execution_count": 51,
   "metadata": {},
   "outputs": [],
   "source": [
    "#For checking if there is a winner in a single board around the diagonals\n",
    "#For now only the main diagonal, you need the other\n",
    "def diag_winner(board,player):\n",
    "    N=len(board)\n",
    "    #Matrix i\n",
    "    for i in range(N):\n",
    "        win=True\n",
    "        for j in range(N):\n",
    "            if board[i,j,j]!=player:\n",
    "                win=False\n",
    "        if win==True:\n",
    "            return win\n",
    "    return win        \n",
    "            "
   ]
  },
  {
   "cell_type": "code",
   "execution_count": 52,
   "metadata": {},
   "outputs": [],
   "source": [
    "#Try of both diagonals\n",
    "def diags_winner(board,player):\n",
    "    N=len(board)\n",
    "    #Matrix i\n",
    "    for i in range(N):\n",
    "        win=True\n",
    "        #Diags\n",
    "        for j in range(N):\n",
    "            if board[i,j,j]!=player:\n",
    "                win=False\n",
    "        if win==True:\n",
    "            return win \n",
    "     #Matrix i   \n",
    "    for i in range(N):\n",
    "        win=True\n",
    "        #Rows and columns\n",
    "        for j in range(N):\n",
    "            if board[i,j,(N-1)-j]!=player:\n",
    "                win=False\n",
    "        if win==True:\n",
    "            return win\n",
    "    return win    "
   ]
  },
  {
   "cell_type": "code",
   "execution_count": null,
   "metadata": {},
   "outputs": [],
   "source": [
    "def play(numberOfTial):\n",
    "    for n in range(numOfTrial):\n",
    "        "
   ]
  },
  {
   "cell_type": "code",
   "execution_count": null,
   "metadata": {},
   "outputs": [],
   "source": []
  }
 ],
 "metadata": {
  "kernelspec": {
   "display_name": "Python 3",
   "language": "python",
   "name": "python3"
  },
  "language_info": {
   "codemirror_mode": {
    "name": "ipython",
    "version": 3
   },
   "file_extension": ".py",
   "mimetype": "text/x-python",
   "name": "python",
   "nbconvert_exporter": "python",
   "pygments_lexer": "ipython3",
   "version": "3.7.1"
  }
 },
 "nbformat": 4,
 "nbformat_minor": 2
}
