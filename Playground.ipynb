{
 "cells": [
  {
   "cell_type": "code",
   "execution_count": 7,
   "metadata": {},
   "outputs": [],
   "source": [
    "import numpy as np\n",
    "import random\n",
    "from time import sleep\n",
    "import math\n",
    "from Game import *\n",
    "from learning import *"
   ]
  },
  {
   "cell_type": "code",
   "execution_count": 8,
   "metadata": {},
   "outputs": [
    {
     "name": "stdout",
     "output_type": "stream",
     "text": [
      "Utility function learning randomly with 100 iterations:\n",
      "[[[ 14  -3   4 -13]\n",
      "  [ 13   2   9  -6]\n",
      "  [-11 -16  -6  -5]\n",
      "  [  3  -6   5  -7]]\n",
      "\n",
      " [[  3  -4   6 -15]\n",
      "  [  3  15  16  -6]\n",
      "  [  5 -10  10  -6]\n",
      "  [  0   7 -13   5]]\n",
      "\n",
      " [[ -2  10   2   7]\n",
      "  [-11  12   2  17]\n",
      "  [  7   0  -1   0]\n",
      "  [-17 -10   4   6]]\n",
      "\n",
      " [[ -1  -5  -3  11]\n",
      "  [ -9  -4  10 -17]\n",
      "  [  1  -3  -6  -1]\n",
      "  [ 19  -7   3  -7]]]\n",
      "Utility function learning randomly with 1000 iterations:\n",
      "[[[ 55 -36  -9   3]\n",
      "  [  2  15 -30 -20]\n",
      "  [-34 -11 -49  -2]\n",
      "  [ 32  -9 -39  14]]\n",
      "\n",
      " [[-31  -2  28 -20]\n",
      "  [ 44  65  43 -29]\n",
      "  [ 26  33  43 -22]\n",
      "  [  3  30 -63 -15]]\n",
      "\n",
      " [[ -8   5 -33 -15]\n",
      "  [-38  67  35  45]\n",
      "  [-10   1  67  12]\n",
      "  [-46 -14 -18 -23]]\n",
      "\n",
      " [[ 18 -36  30  62]\n",
      "  [-32   7 -28 -21]\n",
      "  [-17  -8 -37   2]\n",
      "  [ 25 -42  -1  36]]]\n",
      "Utility fuction learning randomly with 2000 iterations:\n",
      "[[[117 -36 -39  65]\n",
      "  [-28 -18  -8 -33]\n",
      "  [-72 -31 -95 -29]\n",
      "  [ 57   6 -63  34]]\n",
      "\n",
      " [[-57 -37  54  -6]\n",
      "  [ 83 100  76 -23]\n",
      "  [ 34  56  56  -7]\n",
      "  [ -7  18 -39  -2]]\n",
      "\n",
      " [[-12 -11 -84 -26]\n",
      "  [-28 147  84  37]\n",
      "  [-51  64  80  -6]\n",
      "  [-71 -27 -10 -47]]\n",
      "\n",
      " [[ 64 -49 -39 100]\n",
      "  [-60   2 -16 -67]\n",
      "  [ -1 -49 -38  -7]\n",
      "  [ 18 -49 -27  53]]]\n"
     ]
    }
   ],
   "source": [
    "iterations1=100\n",
    "iterations2=1000\n",
    "iterations3=2000\n",
    "learning_randomly_4x4x4(iterations1,iterations2,iterations3)"
   ]
  },
  {
   "cell_type": "code",
   "execution_count": 9,
   "metadata": {},
   "outputs": [
    {
     "ename": "NameError",
     "evalue": "name 'learning_with_exploration_and_exploitation' is not defined",
     "output_type": "error",
     "traceback": [
      "\u001b[0;31m---------------------------------------------------------------------------\u001b[0m",
      "\u001b[0;31mNameError\u001b[0m                                 Traceback (most recent call last)",
      "\u001b[0;32m<ipython-input-9-ac5e27613e4e>\u001b[0m in \u001b[0;36m<module>\u001b[0;34m\u001b[0m\n\u001b[1;32m      2\u001b[0m \u001b[0miterations2\u001b[0m\u001b[0;34m=\u001b[0m\u001b[0;36m1000\u001b[0m\u001b[0;34m\u001b[0m\u001b[0;34m\u001b[0m\u001b[0m\n\u001b[1;32m      3\u001b[0m \u001b[0miterations3\u001b[0m\u001b[0;34m=\u001b[0m\u001b[0;36m2000\u001b[0m\u001b[0;34m\u001b[0m\u001b[0;34m\u001b[0m\u001b[0m\n\u001b[0;32m----> 4\u001b[0;31m \u001b[0mlearning_with_exploration_and_exploitation\u001b[0m\u001b[0;34m(\u001b[0m\u001b[0miterations1\u001b[0m\u001b[0;34m,\u001b[0m\u001b[0miterations2\u001b[0m\u001b[0;34m,\u001b[0m\u001b[0miterations3\u001b[0m\u001b[0;34m)\u001b[0m\u001b[0;34m\u001b[0m\u001b[0;34m\u001b[0m\u001b[0m\n\u001b[0m",
      "\u001b[0;31mNameError\u001b[0m: name 'learning_with_exploration_and_exploitation' is not defined"
     ]
    }
   ],
   "source": [
    "iterations1=100\n",
    "iterations2=1000\n",
    "iterations3=2000\n",
    "learning_with_exploration_and_exploitation(iterations1,iterations2,iterations3)"
   ]
  },
  {
   "cell_type": "code",
   "execution_count": null,
   "metadata": {},
   "outputs": [],
   "source": []
  }
 ],
 "metadata": {
  "kernelspec": {
   "display_name": "Python 3",
   "language": "python",
   "name": "python3"
  },
  "language_info": {
   "codemirror_mode": {
    "name": "ipython",
    "version": 3
   },
   "file_extension": ".py",
   "mimetype": "text/x-python",
   "name": "python",
   "nbconvert_exporter": "python",
   "pygments_lexer": "ipython3",
   "version": "3.7.1"
  }
 },
 "nbformat": 4,
 "nbformat_minor": 2
}
